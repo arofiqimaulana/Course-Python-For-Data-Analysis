{
 "cells": [
  {
   "cell_type": "code",
   "execution_count": 1,
   "metadata": {},
   "outputs": [
    {
     "name": "stdout",
     "output_type": "stream",
     "text": [
      "kunci tidak ditemukan di dictionary\n"
     ]
    }
   ],
   "source": [
    ">>> d = {'ratarata': '10.0'}\n",
    ">>> try:\n",
    "...     print('rata-rata: {}'.format(d['rata_rata']))\n",
    "... except KeyError:                                 \n",
    "...     print('kunci tidak ditemukan di dictionary')\n",
    "... except ValueError:              \n",
    "...     print('nilai tidak sesuai')"
   ]
  },
  {
   "cell_type": "code",
   "execution_count": 2,
   "metadata": {},
   "outputs": [
    {
     "name": "stdout",
     "output_type": "stream",
     "text": [
      "nilai atau tipe tidak sesuai\n"
     ]
    }
   ],
   "source": [
    "try:\n",
    "...     print('rata-rata: {}'.format(d['ratarata']/3))\n",
    "... except KeyError:                                 \n",
    "...     print('kunci tidak ditemukan di dictionary')\n",
    "... except (ValueError, TypeError):\n",
    "...     print('nilai atau tipe tidak sesuai')"
   ]
  },
  {
   "cell_type": "code",
   "execution_count": 3,
   "metadata": {},
   "outputs": [
    {
     "name": "stdout",
     "output_type": "stream",
     "text": [
      "penangan kesalahan: invalid literal for int() with base 10: '10.0'\n"
     ]
    }
   ],
   "source": [
    " try:\n",
    "...     print('pembulatan rata-rata: {}'.format(int(d['ratarata'])))\n",
    "... except (ValueError, TypeError) as e:         \n",
    "...     print('penangan kesalahan: {}'.format(e))"
   ]
  },
  {
   "cell_type": "code",
   "execution_count": 4,
   "metadata": {},
   "outputs": [
    {
     "ename": "KeyError",
     "evalue": "'harus memiliki total'",
     "output_type": "error",
     "traceback": [
      "\u001b[1;31m---------------------------------------------------------------------------\u001b[0m",
      "\u001b[1;31mKeyError\u001b[0m                                  Traceback (most recent call last)",
      "\u001b[1;32m<ipython-input-4-f188a0749426>\u001b[0m in \u001b[0;36m<module>\u001b[1;34m\u001b[0m\n\u001b[0;32m      1\u001b[0m \u001b[0md\u001b[0m \u001b[1;33m=\u001b[0m \u001b[1;33m{\u001b[0m\u001b[1;34m'ratarata'\u001b[0m\u001b[1;33m:\u001b[0m \u001b[1;34m'10.0'\u001b[0m\u001b[1;33m}\u001b[0m\u001b[1;33m\u001b[0m\u001b[1;33m\u001b[0m\u001b[0m\n\u001b[0;32m      2\u001b[0m \u001b[1;32mif\u001b[0m \u001b[1;34m'total'\u001b[0m \u001b[1;32mnot\u001b[0m \u001b[1;32min\u001b[0m \u001b[0md\u001b[0m\u001b[1;33m:\u001b[0m\u001b[1;33m\u001b[0m\u001b[1;33m\u001b[0m\u001b[0m\n\u001b[1;32m----> 3\u001b[1;33m     \u001b[1;32mraise\u001b[0m \u001b[0mKeyError\u001b[0m\u001b[1;33m(\u001b[0m\u001b[1;34m'harus memiliki total'\u001b[0m\u001b[1;33m)\u001b[0m\u001b[1;33m\u001b[0m\u001b[1;33m\u001b[0m\u001b[0m\n\u001b[0m",
      "\u001b[1;31mKeyError\u001b[0m: 'harus memiliki total'"
     ]
    }
   ],
   "source": [
    "d = {'ratarata': '10.0'}\n",
    ">>> if 'total' not in d:                                                                                                                         \n",
    "...     raise KeyError('harus memiliki total') "
   ]
  },
  {
   "cell_type": "code",
   "execution_count": null,
   "metadata": {},
   "outputs": [],
   "source": []
  }
 ],
 "metadata": {
  "kernelspec": {
   "display_name": "Python 3",
   "language": "python",
   "name": "python3"
  },
  "language_info": {
   "codemirror_mode": {
    "name": "ipython",
    "version": 3
   },
   "file_extension": ".py",
   "mimetype": "text/x-python",
   "name": "python",
   "nbconvert_exporter": "python",
   "pygments_lexer": "ipython3",
   "version": "3.7.4"
  }
 },
 "nbformat": 4,
 "nbformat_minor": 2
}
