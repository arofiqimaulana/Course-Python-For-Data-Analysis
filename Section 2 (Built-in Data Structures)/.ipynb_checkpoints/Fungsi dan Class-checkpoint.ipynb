{
 "cells": [
  {
   "cell_type": "code",
   "execution_count": 3,
   "metadata": {},
   "outputs": [
    {
     "name": "stdout",
     "output_type": "stream",
     "text": [
      "Inside the function: 30\n",
      "Outside the function: 30\n"
     ]
    }
   ],
   "source": [
    "def sum(arg1, arg2):\n",
    "    # Add both the parameters and return them.\n",
    "    total = arg1 + arg2\n",
    "    print('Inside the function: {}'.format(total))\n",
    "    return total\n",
    "# Panggil sum\n",
    "total = sum(10, 20);\n",
    "print('Outside the function: {}'.format(total))"
   ]
  },
  {
   "cell_type": "code",
   "execution_count": 4,
   "metadata": {},
   "outputs": [
    {
     "name": "stdout",
     "output_type": "stream",
     "text": [
      "nilai kuadrat dari 10 adalah 100\n"
     ]
    }
   ],
   "source": [
    "def kuadrat(x):\n",
    "    return x*x\n",
    "a = 10\n",
    "k = kuadrat(a)\n",
    "print('nilai kuadrat dari {} adalah {}'.format(a, k))"
   ]
  },
  {
   "cell_type": "code",
   "execution_count": 5,
   "metadata": {},
   "outputs": [
    {
     "name": "stdout",
     "output_type": "stream",
     "text": [
      "Nilai di dalam fungsi: [10, 20, 30, [1, 2, 3, 4]]\n",
      "Nilai di luar fungsi: [10, 20, 30, [1, 2, 3, 4]]\n"
     ]
    }
   ],
   "source": [
    "def changeme(mylist):\n",
    "    mylist.append([1, 2, 3, 4])\n",
    "    print('Nilai di dalam fungsi: {}'.format(mylist))\n",
    " \n",
    "# Panggil changeme\n",
    "mylist = [10, 20, 30]\n",
    "changeme(mylist)\n",
    "print('Nilai di luar fungsi: {}'.format(mylist))"
   ]
  },
  {
   "cell_type": "code",
   "execution_count": 6,
   "metadata": {},
   "outputs": [
    {
     "name": "stdout",
     "output_type": "stream",
     "text": [
      "Nilai di dalam fungsi: [1, 2, 3, 4]\n",
      "Nilai di luar fungsi: [10, 20, 30]\n"
     ]
    }
   ],
   "source": [
    "# Function definition is here\n",
    "def changeme(mylist):\n",
    "    \"Variabel mylist berikut hanya dikenali (berlaku) di dalam fungsi\"\n",
    "    mylist = [1, 2, 3, 4]  # This would assign new reference in mylist\n",
    "    print ('Nilai di dalam fungsi: {}'.format(mylist))\n",
    " \n",
    "# Panggil fungsi changeme\n",
    "mylist = [10, 20, 30]\n",
    "changeme(mylist)\n",
    "print('Nilai di luar fungsi: {}'.format(mylist))"
   ]
  },
  {
   "cell_type": "code",
   "execution_count": 7,
   "metadata": {},
   "outputs": [
    {
     "name": "stdout",
     "output_type": "stream",
     "text": [
      "Name:  Dicoding\n",
      "Age:  5\n"
     ]
    }
   ],
   "source": [
    "def printinfo(name, age):\n",
    "   \"This prints a passed info into this function\"\n",
    "   print('Name: ', name)\n",
    "   print('Age: ', age)\n",
    " \n",
    "# Now you can call printinfo function (with age argument first)\n",
    "printinfo(age=5, name=\"Dicoding\")"
   ]
  },
  {
   "cell_type": "code",
   "execution_count": 8,
   "metadata": {},
   "outputs": [
    {
     "name": "stdout",
     "output_type": "stream",
     "text": [
      "Name:  Dicoding\n",
      "Age:  5\n",
      "Name:  Data\n",
      "Age:  35\n"
     ]
    }
   ],
   "source": [
    "def printinfo(name, age=35):\n",
    "   \"This prints a passed info into this function\"\n",
    "   print('Name: ', name)\n",
    "   print ('Age: ', age)\n",
    " \n",
    "# Now you can call printinfo function (with optional argument age)\n",
    "printinfo(age=5, name='Dicoding')\n",
    "printinfo(name='Data')"
   ]
  },
  {
   "cell_type": "code",
   "execution_count": 10,
   "metadata": {},
   "outputs": [
    {
     "ename": "SyntaxError",
     "evalue": "non-default argument follows default argument (<ipython-input-10-29b72912a473>, line 3)",
     "output_type": "error",
     "traceback": [
      "\u001b[1;36m  File \u001b[1;32m\"<ipython-input-10-29b72912a473>\"\u001b[1;36m, line \u001b[1;32m3\u001b[0m\n\u001b[1;33m    def printinfo(name='Data', age):\u001b[0m\n\u001b[1;37m                 ^\u001b[0m\n\u001b[1;31mSyntaxError\u001b[0m\u001b[1;31m:\u001b[0m non-default argument follows default argument\n"
     ]
    }
   ],
   "source": [
    "# fungsi berikut ini akan error saat didefinisikan\n",
    "# argumen dengan nilai bawaan harus setelah argumen tanpa bawaaan\n",
    "def printinfo(name='Data', age):\n",
    "   \"This prints a passed info into this function\"\n",
    "   print('Name: ', name)\n",
    "   print ('Age: ', age)"
   ]
  },
  {
   "cell_type": "markdown",
   "metadata": {},
   "source": [
    "## Class"
   ]
  },
  {
   "cell_type": "code",
   "execution_count": 24,
   "metadata": {},
   "outputs": [],
   "source": [
    "class Kalkulator:\n",
    "    \"\"\"contoh kelas kalkulator sederhana. anggap kelas ini tidak boleh diubah!\"\"\"\n",
    " \n",
    "    def __init__(self, nilai=0):\n",
    "        self.nilai = nilai\n",
    " \n",
    "    def tambah_angka(self, angka1, angka2):\n",
    "        self.nilai = angka1 + angka2\n",
    "        if self.nilai > 9:  # kalkulator sederhana hanya memroses sampai 9\n",
    "            print('kalkulator sederhana melebihi batas angka: {}'.format(self.nilai))\n",
    "        return self.nilai"
   ]
  },
  {
   "cell_type": "code",
   "execution_count": 25,
   "metadata": {},
   "outputs": [],
   "source": [
    "class KalkulatorKali(Kalkulator):\n",
    "    \"\"\"contoh mewarisi kelas kalkulator sederhana\"\"\"\n",
    " \n",
    "    def kali_angka(self, angka1, angka2):\n",
    "        self.nilai = angka1 * angka2\n",
    "        return self.nilai"
   ]
  },
  {
   "cell_type": "code",
   "execution_count": 26,
   "metadata": {},
   "outputs": [],
   "source": [
    "class KalkulatorKali(Kalkulator):\n",
    "    \"\"\"contoh mewarisi kelas kalkulator sederhana\"\"\"\n",
    " \n",
    "    def kali_angka(self, angka1, angka2):\n",
    "        self.nilai = angka1 * angka2\n",
    "        return self.nilai\n",
    " \n",
    "    def tambah_angka(self, angka1, angka2):\n",
    "        self.nilai = angka1 + angka2\n",
    "        return self.nilai"
   ]
  },
  {
   "cell_type": "code",
   "execution_count": 27,
   "metadata": {},
   "outputs": [
    {
     "name": "stdout",
     "output_type": "stream",
     "text": [
      "6\n",
      "11\n"
     ]
    }
   ],
   "source": [
    "kk = KalkulatorKali()\n",
    "a = kk.kali_angka(2, 3)  # sesuai dengan definisi class memiliki fitur kali_angka\n",
    "print(a)\n",
    " \n",
    "b = kk.tambah_angka(5, 6)  # memiliki fitur tambah_angka karena mewarisi dari Kalkulator\n",
    "print(b)"
   ]
  },
  {
   "cell_type": "markdown",
   "metadata": {},
   "source": [
    "## Argument"
   ]
  },
  {
   "cell_type": "code",
   "execution_count": 13,
   "metadata": {},
   "outputs": [
    {
     "name": "stdout",
     "output_type": "stream",
     "text": [
      "Output: fixedarg 10\n",
      "Output: fixedarg 70\n",
      "argumen posisi 60\n",
      "argumen posisi 50\n"
     ]
    }
   ],
   "source": [
    "def printinfo(fixedarg, *args):\n",
    "    \"This prints a variable passed arguments\"\n",
    "    print('Output: fixedarg {}'.format(fixedarg))\n",
    "    for a in args:\n",
    "        print('argumen posisi {}'.format(a))\n",
    " \n",
    "#Panggil printinfo \n",
    "printinfo(10)\n",
    "printinfo(70, 60, 50)"
   ]
  },
  {
   "cell_type": "code",
   "execution_count": 14,
   "metadata": {},
   "outputs": [
    {
     "name": "stdout",
     "output_type": "stream",
     "text": [
      "argumen posisi 1\n",
      "argumen posisi 2\n",
      "argumen posisi 3\n",
      "argument kata kunci i:7\n",
      "argument kata kunci j:8\n",
      "argument kata kunci k:9\n",
      "argumen posisi 1\n",
      "argumen posisi 2\n",
      "argument kata kunci j:8\n",
      "argument kata kunci k:9\n",
      "argumen posisi 2\n",
      "argumen posisi 3\n",
      "argument kata kunci i:7\n",
      "argument kata kunci j:8\n"
     ]
    }
   ],
   "source": [
    "def printinfo(*args, **kwargs):\n",
    "    for a in args:\n",
    "        print('argumen posisi {}'.format(a))\n",
    "    for key, value in kwargs.items():\n",
    "        print('argument kata kunci {}:{}'.format(key, value))\n",
    " \n",
    " \n",
    "# Panggil printinfo\n",
    "printinfo()\n",
    "printinfo(1, 2, 3)\n",
    "printinfo(i=7, j=8, k=9)\n",
    "printinfo(1, 2, j=8, k=9)\n",
    "printinfo(*(2, 3), **{'i':7, 'j':8})"
   ]
  },
  {
   "cell_type": "markdown",
   "metadata": {},
   "source": [
    "## Anonim"
   ]
  },
  {
   "cell_type": "code",
   "execution_count": 16,
   "metadata": {},
   "outputs": [],
   "source": [
    "sum = lambda arg1, arg2: arg1 + arg2;"
   ]
  },
  {
   "cell_type": "code",
   "execution_count": 17,
   "metadata": {},
   "outputs": [
    {
     "name": "stdout",
     "output_type": "stream",
     "text": [
      "Value of total :  30\n"
     ]
    }
   ],
   "source": [
    "print (\"Value of total : \", sum( 10, 20 ))"
   ]
  },
  {
   "cell_type": "code",
   "execution_count": null,
   "metadata": {},
   "outputs": [],
   "source": []
  },
  {
   "cell_type": "code",
   "execution_count": 19,
   "metadata": {},
   "outputs": [
    {
     "name": "stdout",
     "output_type": "stream",
     "text": [
      "Inside the function: 30\n",
      "Outside the function: 0\n"
     ]
    }
   ],
   "source": [
    "total = 0  # ini variabel global\n",
    "def sum(arg1, arg2):\n",
    "    # tambahkan kedua parameter dan return\n",
    "    total = arg1 + arg2\n",
    "    print('Inside the function: {}'.format(total))\n",
    "    return total\n",
    "# panggil sum\n",
    "sum(10, 20)\n",
    "print('Outside the function: {}'.format(total)) "
   ]
  },
  {
   "cell_type": "code",
   "execution_count": 20,
   "metadata": {},
   "outputs": [
    {
     "name": "stdout",
     "output_type": "stream",
     "text": [
      "Inside the function local total:  30\n",
      "Outside the function (global) total:  30\n"
     ]
    }
   ],
   "source": [
    "total = 0  # This is global variable.\n",
    "# fungsi didefinisikan di bawah ini\n",
    "def sum(arg1, arg2):\n",
    "    global total\n",
    "    total = arg1 + arg2 # variabel lokal total\n",
    "    print('Inside the function local total: ', total)\n",
    "    return total\n",
    " \n",
    "sum(10, 20)\n",
    "print('Outside the function (global) total: ', total)"
   ]
  },
  {
   "cell_type": "code",
   "execution_count": null,
   "metadata": {},
   "outputs": [],
   "source": []
  }
 ],
 "metadata": {
  "kernelspec": {
   "display_name": "Python 3",
   "language": "python",
   "name": "python3"
  },
  "language_info": {
   "codemirror_mode": {
    "name": "ipython",
    "version": 3
   },
   "file_extension": ".py",
   "mimetype": "text/x-python",
   "name": "python",
   "nbconvert_exporter": "python",
   "pygments_lexer": "ipython3",
   "version": "3.7.4"
  }
 },
 "nbformat": 4,
 "nbformat_minor": 2
}
