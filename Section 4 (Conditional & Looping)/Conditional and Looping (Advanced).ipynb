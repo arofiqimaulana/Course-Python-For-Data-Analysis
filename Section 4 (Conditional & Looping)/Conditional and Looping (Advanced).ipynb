{
 "cells": [
  {
   "cell_type": "code",
   "execution_count": 2,
   "metadata": {},
   "outputs": [
    {
     "name": "stdout",
     "output_type": "stream",
     "text": [
      "Enter amount: 50000\n",
      "Discount 5000.0\n",
      "Net payable: 45000.0\n"
     ]
    }
   ],
   "source": [
    "amount = int(input(\"Enter amount: \"))\n",
    "if amount<1000:\n",
    "   discount = amount*0.05\n",
    "   print (\"Discount\",discount)\n",
    "else:\n",
    "   discount = amount*0.10\n",
    "   print (\"Discount\",discount)\n",
    "   \n",
    "print (\"Net payable:\",amount-discount)"
   ]
  },
  {
   "cell_type": "code",
   "execution_count": 9,
   "metadata": {},
   "outputs": [
    {
     "name": "stdout",
     "output_type": "stream",
     "text": [
      "bilangan 10 adalah genap\n"
     ]
    }
   ],
   "source": [
    "a = 10\n",
    "if a % 2 == 0:\n",
    "    print('bilangan {} adalah genap'.format(a))\n",
    "else:\n",
    "    print('bilangan {} adalah ganjil'.format(a))"
   ]
  },
  {
   "cell_type": "code",
   "execution_count": 10,
   "metadata": {},
   "outputs": [
    {
     "name": "stdout",
     "output_type": "stream",
     "text": [
      "bilangan 8 adalah genap\n"
     ]
    }
   ],
   "source": [
    "print('bilangan {} adalah genap'.format(8))"
   ]
  },
  {
   "cell_type": "code",
   "execution_count": 11,
   "metadata": {},
   "outputs": [
    {
     "name": "stdout",
     "output_type": "stream",
     "text": [
      "Enter amount: 10000\n",
      "Discount 1500.0\n",
      "Net payable: 8500.0\n"
     ]
    }
   ],
   "source": [
    "amount = int(input(\"Enter amount: \"))\n",
    "if amount<1000:\n",
    "   discount = amount*0.05\n",
    "   print (\"Discount\",discount)\n",
    "elif amount<5000:\n",
    "   discount = amount*0.10\n",
    "   print (\"Discount\",discount)\n",
    "else:\n",
    "   discount = amount*0.15\n",
    "   print (\"Discount\",discount)\n",
    "print (\"Net payable:\",amount-discount)"
   ]
  },
  {
   "cell_type": "markdown",
   "metadata": {},
   "source": [
    "## FOR"
   ]
  },
  {
   "cell_type": "code",
   "execution_count": 16,
   "metadata": {},
   "outputs": [
    {
     "name": "stdout",
     "output_type": "stream",
     "text": [
      "P\n",
      "y\n",
      "t\n",
      "h\n",
      "o\n",
      "n\n"
     ]
    }
   ],
   "source": [
    "for letter in 'Python':  # First Example\n",
    "    print(letter)"
   ]
  },
  {
   "cell_type": "code",
   "execution_count": 17,
   "metadata": {},
   "outputs": [
    {
     "name": "stdout",
     "output_type": "stream",
     "text": [
      "Current Letter: P\n",
      "Current Letter: y\n",
      "Current Letter: t\n",
      "Current Letter: h\n",
      "Current Letter: o\n",
      "Current Letter: n\n"
     ]
    }
   ],
   "source": [
    "for letter in 'Python':  # First Example\n",
    "    print('Current Letter: {}'.format(letter))"
   ]
  },
  {
   "cell_type": "code",
   "execution_count": 18,
   "metadata": {},
   "outputs": [
    {
     "name": "stdout",
     "output_type": "stream",
     "text": [
      "Current fruit: banana\n",
      "Current fruit: apple\n",
      "Current fruit: mango\n"
     ]
    }
   ],
   "source": [
    "fruits = ['banana', 'apple', 'mango']\n",
    "for fruit in fruits:  # Second Example\n",
    "    print('Current fruit: {}'.format(fruit))"
   ]
  },
  {
   "cell_type": "code",
   "execution_count": 19,
   "metadata": {},
   "outputs": [
    {
     "name": "stdout",
     "output_type": "stream",
     "text": [
      "Current fruit: banana\n",
      "Current fruit: apple\n",
      "Current fruit: mango\n"
     ]
    }
   ],
   "source": [
    "fruits = ['banana', 'apple', 'mango']\n",
    "for index in range(len(fruits)):\n",
    "    print('Current fruit: {}'.format(fruits[index]))"
   ]
  },
  {
   "cell_type": "markdown",
   "metadata": {},
   "source": [
    "## WHILE"
   ]
  },
  {
   "cell_type": "code",
   "execution_count": 23,
   "metadata": {},
   "outputs": [
    {
     "name": "stdout",
     "output_type": "stream",
     "text": [
      "3\n",
      "4\n",
      "5\n",
      "i is no longer less than 6\n"
     ]
    }
   ],
   "source": [
    "i = 3\n",
    "while i < 6:\n",
    "  print(i)\n",
    "  i = i + 1\n",
    "else:\n",
    "  print(\"i is no longer less than 6\")"
   ]
  },
  {
   "cell_type": "code",
   "execution_count": 24,
   "metadata": {},
   "outputs": [
    {
     "name": "stdout",
     "output_type": "stream",
     "text": [
      "The count is: 0\n",
      "The count is: 1\n",
      "The count is: 2\n",
      "The count is: 3\n",
      "The count is: 4\n"
     ]
    }
   ],
   "source": [
    "count = 0\n",
    "while (count < 5):\n",
    "    print('The count is: {}'.format(count))\n",
    "    count = count + 1"
   ]
  },
  {
   "cell_type": "code",
   "execution_count": null,
   "metadata": {},
   "outputs": [],
   "source": []
  },
  {
   "cell_type": "markdown",
   "metadata": {},
   "source": [
    "## FOR Bertingkat"
   ]
  },
  {
   "cell_type": "code",
   "execution_count": 41,
   "metadata": {},
   "outputs": [],
   "source": [
    "x = ['a' ,'b','c']\n",
    "y = ['aa','bb','cc']"
   ]
  },
  {
   "cell_type": "code",
   "execution_count": 42,
   "metadata": {},
   "outputs": [
    {
     "name": "stdout",
     "output_type": "stream",
     "text": [
      "['a', 'aa']\n",
      "['a', 'bb']\n",
      "['a', 'cc']\n",
      "['b', 'aa']\n",
      "['b', 'bb']\n",
      "['b', 'cc']\n",
      "['c', 'aa']\n",
      "['c', 'bb']\n",
      "['c', 'cc']\n"
     ]
    }
   ],
   "source": [
    "for k in x:\n",
    "    for j in y:\n",
    "        print([k,j])"
   ]
  },
  {
   "cell_type": "code",
   "execution_count": 31,
   "metadata": {},
   "outputs": [
    {
     "name": "stdout",
     "output_type": "stream",
     "text": [
      "*****\n",
      "****\n",
      "***\n",
      "**\n",
      "*\n"
     ]
    }
   ],
   "source": [
    "for i in range(0, 5):\n",
    "    for j in range(0, 5 - i):\n",
    "        print('*', end='')\n",
    "    print()"
   ]
  },
  {
   "cell_type": "code",
   "execution_count": 33,
   "metadata": {},
   "outputs": [
    {
     "name": "stdout",
     "output_type": "stream",
     "text": [
      "0\n",
      "1\n",
      "2\n",
      "3\n",
      "4\n"
     ]
    }
   ],
   "source": [
    "for i in range(0, 5):\n",
    "    print(i)"
   ]
  },
  {
   "cell_type": "code",
   "execution_count": 32,
   "metadata": {},
   "outputs": [
    {
     "name": "stdout",
     "output_type": "stream",
     "text": [
      "[0, 0]\n",
      "[0, 1]\n",
      "[0, 2]\n",
      "[0, 3]\n",
      "[0, 4]\n",
      "[1, 0]\n",
      "[1, 1]\n",
      "[1, 2]\n",
      "[1, 3]\n",
      "[2, 0]\n",
      "[2, 1]\n",
      "[2, 2]\n",
      "[3, 0]\n",
      "[3, 1]\n",
      "[4, 0]\n"
     ]
    }
   ],
   "source": [
    "for i in range(0, 5):\n",
    "    for j in range(0, 5 - i):\n",
    "        print([i,j])"
   ]
  },
  {
   "cell_type": "markdown",
   "metadata": {},
   "source": [
    "## BREAK"
   ]
  },
  {
   "cell_type": "code",
   "execution_count": 43,
   "metadata": {},
   "outputs": [
    {
     "name": "stdout",
     "output_type": "stream",
     "text": [
      "Current letter: P\n",
      "Current letter: y\n",
      "Current letter: t\n"
     ]
    }
   ],
   "source": [
    "for letter in 'Python':     # First Example\n",
    "    if letter == 'h':\n",
    "        break\n",
    "    print('Current letter: {}'.format(letter))"
   ]
  },
  {
   "cell_type": "code",
   "execution_count": 56,
   "metadata": {},
   "outputs": [
    {
     "name": "stdout",
     "output_type": "stream",
     "text": [
      "Current variable value: 10\n",
      "Current variable value: 9\n",
      "Current variable value: 8\n",
      "Current variable value: 7\n",
      "Current variable value: 6\n"
     ]
    }
   ],
   "source": [
    "var = 10                    # Second Example\n",
    "while var > 0:             \n",
    "    print('Current variable value: {}'.format(var))\n",
    "    var = var - 1\n",
    "    if var == 5:\n",
    "        break"
   ]
  },
  {
   "cell_type": "code",
   "execution_count": 54,
   "metadata": {},
   "outputs": [
    {
     "name": "stdout",
     "output_type": "stream",
     "text": [
      "other\n"
     ]
    }
   ],
   "source": [
    "var = 10                    # Second Example\n",
    "while var < 0:             \n",
    "    print('Current variable value: {}'.format(var))\n",
    "    var = var - 1\n",
    "    if var == 5:\n",
    "        break\n",
    "else:\n",
    "    print(\"other\")"
   ]
  },
  {
   "cell_type": "markdown",
   "metadata": {},
   "source": [
    "## CONTINUE\n",
    "Skip the iteration if the variable i is 3, but continue with the next iteration:"
   ]
  },
  {
   "cell_type": "code",
   "execution_count": 10,
   "metadata": {},
   "outputs": [
    {
     "name": "stdout",
     "output_type": "stream",
     "text": [
      "Current letter: P\n",
      "Current letter: y\n",
      "Current letter: t\n",
      "Current letter: o\n",
      "Current letter: n\n"
     ]
    }
   ],
   "source": [
    "for letter in 'Python':     # First Example\n",
    "    if letter == 'h':\n",
    "        continue\n",
    "    print('Current letter: {}'.format(letter))"
   ]
  },
  {
   "cell_type": "code",
   "execution_count": 57,
   "metadata": {},
   "outputs": [
    {
     "name": "stdout",
     "output_type": "stream",
     "text": [
      "Elemen positif: 1\n",
      "Elemen positif: 2\n",
      "Elemen positif: 3\n"
     ]
    }
   ],
   "source": [
    "for a in [0, 1, -1, 2, -2, 3, -3]:     #Second Example\n",
    "    if a <= 0:\n",
    "        continue\n",
    "    print('Elemen positif: {}'.format(a))"
   ]
  },
  {
   "cell_type": "code",
   "execution_count": 69,
   "metadata": {},
   "outputs": [
    {
     "name": "stdout",
     "output_type": "stream",
     "text": [
      "-3\n",
      "-2\n",
      "-1\n",
      "0\n",
      "1\n",
      "2\n",
      "3\n"
     ]
    }
   ],
   "source": [
    "for a in [-3,-2,-1,0, 1, 2, 3]:     #Second Example\n",
    "    if a == 10:\n",
    "        continue\n",
    "    print(a)"
   ]
  },
  {
   "cell_type": "code",
   "execution_count": 12,
   "metadata": {},
   "outputs": [
    {
     "name": "stdout",
     "output_type": "stream",
     "text": [
      "Current variable value: 9\n",
      "Current variable value: 8\n",
      "Current variable value: 7\n",
      "Current variable value: 6\n",
      "Current variable value: 4\n",
      "Current variable value: 3\n",
      "Current variable value: 2\n",
      "Current variable value: 1\n",
      "Current variable value: 0\n"
     ]
    }
   ],
   "source": [
    "var = 10                    # Third Example\n",
    "while var > 0:             \n",
    "    var = var -1\n",
    "    if var == 5:\n",
    "        continue\n",
    "    print('Current variable value: {}'.format(var))"
   ]
  },
  {
   "cell_type": "markdown",
   "metadata": {},
   "source": [
    "## ELSE SETELAH FOR"
   ]
  },
  {
   "cell_type": "code",
   "execution_count": 13,
   "metadata": {},
   "outputs": [
    {
     "name": "stdout",
     "output_type": "stream",
     "text": [
      "2 is a prime number\n",
      "3 is a prime number\n",
      "4 equals 2 * 2.0\n",
      "5 is a prime number\n",
      "6 equals 2 * 3.0\n",
      "7 is a prime number\n",
      "8 equals 2 * 4.0\n",
      "9 equals 3 * 3.0\n"
     ]
    }
   ],
   "source": [
    "for n in range(2, 10):\n",
    "    for x in range(2, n):\n",
    "        if n % x == 0:\n",
    "            print( n, 'equals', x, '*', n/x)\n",
    "            break\n",
    "    else:\n",
    "        # loop fell through without finding a factor\n",
    "        print(n, 'is a prime number')"
   ]
  },
  {
   "cell_type": "code",
   "execution_count": 74,
   "metadata": {},
   "outputs": [],
   "source": [
    "names = ['Jerry', 'Kramer', 'Elaine', 'George', 'Newman']"
   ]
  },
  {
   "cell_type": "code",
   "execution_count": 75,
   "metadata": {},
   "outputs": [
    {
     "name": "stdout",
     "output_type": "stream",
     "text": [
      "['Kramer', 'Elaine', 'George', 'Newman']\n",
      "['Jerry']\n"
     ]
    }
   ],
   "source": [
    "t1 = []\n",
    "t2 = []\n",
    "\n",
    "for k in names:\n",
    "    if len(k) >= 6:\n",
    "        t1.append(k)\n",
    "    else:\n",
    "        t2.append(k)\n",
    "\n",
    "print(t1)\n",
    "print(t2)"
   ]
  },
  {
   "cell_type": "markdown",
   "metadata": {},
   "source": [
    "## ELSE SETELEH WHILE"
   ]
  },
  {
   "cell_type": "code",
   "execution_count": 14,
   "metadata": {},
   "outputs": [
    {
     "name": "stdout",
     "output_type": "stream",
     "text": [
      "4\n",
      "3\n"
     ]
    }
   ],
   "source": [
    "n = 5\n",
    "while n > 0:\n",
    "    n = n - 1\n",
    "    if n == 2:\n",
    "        break\n",
    "    print(n)\n",
    "else:\n",
    "    print(\"Loop is finished\")"
   ]
  },
  {
   "cell_type": "code",
   "execution_count": 79,
   "metadata": {},
   "outputs": [
    {
     "name": "stdout",
     "output_type": "stream",
     "text": [
      "var > 0\n"
     ]
    }
   ],
   "source": [
    "var = 10                    # Second Example\n",
    "while var < 0:             \n",
    "    print('Current variable value: {}'.format(var))\n",
    "    var = var - 1\n",
    "    if var == 5:\n",
    "        break\n",
    "else:\n",
    "    print(\"var > 0\")"
   ]
  },
  {
   "cell_type": "markdown",
   "metadata": {},
   "source": [
    "## PASS"
   ]
  },
  {
   "cell_type": "code",
   "execution_count": 93,
   "metadata": {},
   "outputs": [
    {
     "name": "stdout",
     "output_type": "stream",
     "text": [
      "3\n",
      "4\n"
     ]
    }
   ],
   "source": [
    "res = []\n",
    "for k in x:\n",
    "    if k > 2:\n",
    "        pass\n",
    "        print(k)"
   ]
  },
  {
   "cell_type": "code",
   "execution_count": 86,
   "metadata": {},
   "outputs": [
    {
     "name": "stdout",
     "output_type": "stream",
     "text": [
      "y\n"
     ]
    }
   ],
   "source": [
    "for letter in 'Python':\n",
    "    if letter == 'y':\n",
    "        pass\n",
    "        print(letter)"
   ]
  },
  {
   "cell_type": "code",
   "execution_count": 82,
   "metadata": {},
   "outputs": [
    {
     "name": "stdout",
     "output_type": "stream",
     "text": [
      "Current letter: P\n",
      "Current letter: y\n",
      "Current letter: t\n",
      "This is pass block\n",
      "Current letter: h\n",
      "Current letter: o\n",
      "Current letter: n\n"
     ]
    }
   ],
   "source": [
    "for letter in 'Python':\n",
    "    if letter == 'h':\n",
    "        pass\n",
    "        print (\"This is pass block\")\n",
    "    print('Current letter: {}'.format(letter))"
   ]
  },
  {
   "cell_type": "code",
   "execution_count": 114,
   "metadata": {},
   "outputs": [
    {
     "name": "stdout",
     "output_type": "stream",
     "text": [
      "Lower letter: y\n",
      "Lower letter: t\n",
      "Lower letter: h\n",
      "Lower letter: o\n",
      "Lower letter: n\n"
     ]
    }
   ],
   "source": [
    "for letter in 'Python':\n",
    "    if letter.isupper():\n",
    "        pass  # will process later\n",
    "    else:\n",
    "        print('Lower letter: {}'.format(letter))"
   ]
  },
  {
   "cell_type": "markdown",
   "metadata": {},
   "source": [
    "## LIST COMPREHENSION"
   ]
  },
  {
   "cell_type": "code",
   "execution_count": 18,
   "metadata": {},
   "outputs": [
    {
     "name": "stdout",
     "output_type": "stream",
     "text": [
      "[1, 4, 9, 16]\n"
     ]
    }
   ],
   "source": [
    "#Cara 1\n",
    "numbers = [1, 2, 3, 4]\n",
    "squares = []\n",
    "for n in numbers:\n",
    "  squares.append(n**2)\n",
    "print(squares)"
   ]
  },
  {
   "cell_type": "code",
   "execution_count": 19,
   "metadata": {},
   "outputs": [
    {
     "name": "stdout",
     "output_type": "stream",
     "text": [
      "[1, 4, 9, 16]\n"
     ]
    }
   ],
   "source": [
    "#Cara 2 List Comprehension\n",
    "numbers = [1, 2, 3, 4]\n",
    "squares = [n**2 for n in numbers]\n",
    "print(squares)"
   ]
  },
  {
   "cell_type": "code",
   "execution_count": 118,
   "metadata": {},
   "outputs": [
    {
     "name": "stdout",
     "output_type": "stream",
     "text": [
      "[2, 3, 4]\n"
     ]
    }
   ],
   "source": [
    "#Contoh3 menemukan bilangan yang ada di kedua list\n",
    "list_a = [1, 2, 3, 4]\n",
    "list_b = [2, 3, 4, 5]\n",
    "common_num = []\n",
    "for a in list_a:\n",
    "    for b in list_b:\n",
    "        if a == b:\n",
    "            common_num.append(a)\n",
    "            \n",
    "print(common_num)  # Output [2, 3, 4]"
   ]
  },
  {
   "cell_type": "code",
   "execution_count": 21,
   "metadata": {},
   "outputs": [
    {
     "name": "stdout",
     "output_type": "stream",
     "text": [
      "[2, 3, 4]\n"
     ]
    }
   ],
   "source": [
    "#Contoh4 Implementasi dengan list comprehension\n",
    "list_a = [1, 2, 3, 4]\n",
    "list_b = [2, 3, 4, 5]\n",
    "common_num = [a for a in list_a for b in list_b if a == b]\n",
    "print(common_num) # Output: [2, 3, 4]"
   ]
  },
  {
   "cell_type": "code",
   "execution_count": 22,
   "metadata": {},
   "outputs": [
    {
     "name": "stdout",
     "output_type": "stream",
     "text": [
      "['hello', 'world', 'in', 'python']\n"
     ]
    }
   ],
   "source": [
    "# Contoh 5 kecilkan semua huruf\n",
    "list_a = [\"Hello\", \"World\", \"In\", \"Python\"]\n",
    "small_list_a = [_.lower() for _ in list_a]\n",
    "print(small_list_a) # Output: ['hello', 'world', 'in', 'python']"
   ]
  },
  {
   "cell_type": "code",
   "execution_count": 119,
   "metadata": {},
   "outputs": [
    {
     "name": "stdout",
     "output_type": "stream",
     "text": [
      "['hello', 'world', 'in', 'python']\n"
     ]
    }
   ],
   "source": [
    "# Contoh 5 kecilkan semua huruf\n",
    "list_a = [\"Hello\", \"World\", \"In\", \"Python\"]\n",
    "small_list_a = [k.lower() for k in list_a]\n",
    "print(small_list_a) # Output: ['hello', 'world', 'in', 'python']"
   ]
  },
  {
   "cell_type": "code",
   "execution_count": 124,
   "metadata": {},
   "outputs": [
    {
     "name": "stdout",
     "output_type": "stream",
     "text": [
      "[[1, 1], [9, 27], [25, 125], [49, 343], [81, 729]]\n"
     ]
    }
   ],
   "source": [
    "list_a = range(1, 10, 2)\n",
    "x = [[k**2, k**3] for k in list_a]\n",
    "print(x)"
   ]
  },
  {
   "cell_type": "code",
   "execution_count": 122,
   "metadata": {},
   "outputs": [
    {
     "data": {
      "text/plain": [
       "[[1, 1], [9, 27], [25, 125], [49, 343], [81, 729]]"
      ]
     },
     "execution_count": 122,
     "metadata": {},
     "output_type": "execute_result"
    }
   ],
   "source": [
    "res1 = []\n",
    "for k in list_a:\n",
    "    res1.append([k**2, k**3])\n",
    "res1"
   ]
  },
  {
   "cell_type": "code",
   "execution_count": null,
   "metadata": {},
   "outputs": [],
   "source": []
  }
 ],
 "metadata": {
  "kernelspec": {
   "display_name": "Python 3",
   "language": "python",
   "name": "python3"
  },
  "language_info": {
   "codemirror_mode": {
    "name": "ipython",
    "version": 3
   },
   "file_extension": ".py",
   "mimetype": "text/x-python",
   "name": "python",
   "nbconvert_exporter": "python",
   "pygments_lexer": "ipython3",
   "version": "3.8.5"
  }
 },
 "nbformat": 4,
 "nbformat_minor": 2
}
