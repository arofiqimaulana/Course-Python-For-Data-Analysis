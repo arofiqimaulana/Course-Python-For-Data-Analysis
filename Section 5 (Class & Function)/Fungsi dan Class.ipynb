{
 "cells": [
  {
   "cell_type": "markdown",
   "metadata": {},
   "source": [
    "# Class & Function"
   ]
  },
  {
   "cell_type": "markdown",
   "metadata": {},
   "source": [
    "## A. Function"
   ]
  },
  {
   "cell_type": "code",
   "execution_count": 8,
   "metadata": {},
   "outputs": [
    {
     "data": {
      "text/plain": [
       "6"
      ]
     },
     "execution_count": 8,
     "metadata": {},
     "output_type": "execute_result"
    }
   ],
   "source": [
    "def doubles(x):\n",
    "    hasil = x**2 + x*5 - 3\n",
    "    \n",
    "    return x*3\n",
    "\n",
    "doubles(2)"
   ]
  },
  {
   "cell_type": "code",
   "execution_count": 2,
   "metadata": {},
   "outputs": [
    {
     "data": {
      "text/plain": [
       "10"
      ]
     },
     "execution_count": 2,
     "metadata": {},
     "output_type": "execute_result"
    }
   ],
   "source": [
    "def doubles(x):\n",
    "    return x*2\n",
    "\n",
    "doubles(5)"
   ]
  },
  {
   "cell_type": "code",
   "execution_count": 13,
   "metadata": {},
   "outputs": [
    {
     "data": {
      "text/plain": [
       "11"
      ]
     },
     "execution_count": 13,
     "metadata": {},
     "output_type": "execute_result"
    }
   ],
   "source": [
    "def total(x,y):\n",
    "    return x+y\n",
    "\n",
    "total(5,6)"
   ]
  },
  {
   "cell_type": "code",
   "execution_count": 3,
   "metadata": {},
   "outputs": [
    {
     "name": "stdout",
     "output_type": "stream",
     "text": [
      "Inside the function: 30\n",
      "Outside the function: 30\n"
     ]
    }
   ],
   "source": [
    "def sum(arg1, arg2):\n",
    "    # Add both the parameters and return them.\n",
    "    total = arg1 + arg2\n",
    "    print('Inside the function: {}'.format(total))\n",
    "    return total\n",
    "# Panggil sum\n",
    "total = sum(10, 20);\n",
    "print('Outside the function: {}'.format(total))"
   ]
  },
  {
   "cell_type": "code",
   "execution_count": 4,
   "metadata": {},
   "outputs": [
    {
     "name": "stdout",
     "output_type": "stream",
     "text": [
      "nilai kuadrat dari 10 adalah 100\n"
     ]
    }
   ],
   "source": [
    "def kuadrat(x):\n",
    "    return x*x\n",
    "a = 10\n",
    "k = kuadrat(a)\n",
    "print('nilai kuadrat dari {} adalah {}'.format(a, k))"
   ]
  },
  {
   "cell_type": "code",
   "execution_count": 34,
   "metadata": {},
   "outputs": [],
   "source": [
    "def changeme(mylist):\n",
    "    mylist.append([1, 2, 3, 4])\n",
    "    \n",
    "    return mylist"
   ]
  },
  {
   "cell_type": "code",
   "execution_count": 46,
   "metadata": {},
   "outputs": [
    {
     "data": {
      "text/plain": [
       "[10, 20, 30, [1, 2, 3, 4]]"
      ]
     },
     "execution_count": 46,
     "metadata": {},
     "output_type": "execute_result"
    }
   ],
   "source": [
    "mylist = [10, 20, 30]\n",
    "\n",
    "nilai = [[1, 2, 3, 4]]\n",
    "for k in nilai:\n",
    "    mylist.append(k)\n",
    "mylist"
   ]
  },
  {
   "cell_type": "code",
   "execution_count": 6,
   "metadata": {},
   "outputs": [
    {
     "name": "stdout",
     "output_type": "stream",
     "text": [
      "Nilai di dalam fungsi: [1, 2, 3, 4]\n",
      "Nilai di luar fungsi: [10, 20, 30]\n"
     ]
    }
   ],
   "source": [
    "# Function definition is here\n",
    "def changeme(mylist):\n",
    "    \"Variabel mylist berikut hanya dikenali (berlaku) di dalam fungsi\"\n",
    "    mylist = [1, 2, 3, 4]  # This would assign new reference in mylist\n",
    "    print ('Nilai di dalam fungsi: {}'.format(mylist))\n",
    " \n",
    "# Panggil fungsi changeme\n",
    "mylist = [10, 20, 30]\n",
    "changeme(mylist)\n",
    "print('Nilai di luar fungsi: {}'.format(mylist))"
   ]
  },
  {
   "cell_type": "code",
   "execution_count": 7,
   "metadata": {},
   "outputs": [
    {
     "name": "stdout",
     "output_type": "stream",
     "text": [
      "Name:  Dicoding\n",
      "Age:  5\n"
     ]
    }
   ],
   "source": [
    "def printinfo(name, age):\n",
    "   \"This prints a passed info into this function\"\n",
    "   print('Name: ', name)\n",
    "   print('Age: ', age)\n",
    " \n",
    "# Now you can call printinfo function (with age argument first)\n",
    "printinfo(age=5, name=\"Dicoding\")"
   ]
  },
  {
   "cell_type": "code",
   "execution_count": 47,
   "metadata": {},
   "outputs": [
    {
     "name": "stdout",
     "output_type": "stream",
     "text": [
      "Name:  Dicoding\n",
      "Age:  5\n",
      "Name:  Data\n",
      "Age:  35\n"
     ]
    }
   ],
   "source": [
    "def printinfo(name, age=35):\n",
    "   \"This prints a passed info into this function\"\n",
    "   print('Name: ', name)\n",
    "   print ('Age: ', age)\n",
    " \n",
    "# Now you can call printinfo function (with optional argument age)\n",
    "printinfo(age=5, name='Dicoding')\n",
    "printinfo(name='Data')"
   ]
  },
  {
   "cell_type": "code",
   "execution_count": 49,
   "metadata": {},
   "outputs": [
    {
     "name": "stdout",
     "output_type": "stream",
     "text": [
      "Name:  Kaka\n",
      "Age:  35\n"
     ]
    }
   ],
   "source": [
    "printinfo('Kaka')"
   ]
  },
  {
   "cell_type": "code",
   "execution_count": 50,
   "metadata": {},
   "outputs": [
    {
     "name": "stdout",
     "output_type": "stream",
     "text": [
      "Name:  Kaka\n",
      "Age:  23\n"
     ]
    }
   ],
   "source": [
    "printinfo('Kaka',23)"
   ]
  },
  {
   "cell_type": "code",
   "execution_count": 58,
   "metadata": {},
   "outputs": [],
   "source": [
    "# fungsi berikut ini akan error saat didefinisikan\n",
    "# argumen dengan nilai bawaan harus setelah argumen tanpa bawaaan\n",
    "def printinfo(age,name='Data'):\n",
    "    \"This prints a passed info into this function\"\n",
    "    print('Name: ', name)\n",
    "    print('Age: ', age)"
   ]
  },
  {
   "cell_type": "code",
   "execution_count": 59,
   "metadata": {},
   "outputs": [
    {
     "ename": "SyntaxError",
     "evalue": "non-default argument follows default argument (<ipython-input-59-52dcceed933b>, line 3)",
     "output_type": "error",
     "traceback": [
      "\u001b[1;36m  File \u001b[1;32m\"<ipython-input-59-52dcceed933b>\"\u001b[1;36m, line \u001b[1;32m3\u001b[0m\n\u001b[1;33m    def printinfo(name='Data',age):\u001b[0m\n\u001b[1;37m                  ^\u001b[0m\n\u001b[1;31mSyntaxError\u001b[0m\u001b[1;31m:\u001b[0m non-default argument follows default argument\n"
     ]
    }
   ],
   "source": [
    "# fungsi berikut ini akan error saat didefinisikan\n",
    "# argumen dengan nilai bawaan harus setelah argumen tanpa bawaaan\n",
    "def printinfo(name='Data',age):\n",
    "    \"This prints a passed info into this function\"\n",
    "    print('Name: ', name)\n",
    "    print('Age: ', age)"
   ]
  },
  {
   "cell_type": "markdown",
   "metadata": {},
   "source": [
    "## B. Class"
   ]
  },
  {
   "cell_type": "markdown",
   "metadata": {},
   "source": [
    "Package terdiri dari kumpulan class, dan class merupakan kumpulan dari function.\n",
    "\n",
    "package -> class -> function\n"
   ]
  },
  {
   "cell_type": "code",
   "execution_count": 60,
   "metadata": {},
   "outputs": [],
   "source": [
    "import pandas as pd"
   ]
  },
  {
   "cell_type": "code",
   "execution_count": 64,
   "metadata": {},
   "outputs": [],
   "source": [
    "# The simplest -> has only constanta\n",
    "class MyClass:\n",
    "    x = 5"
   ]
  },
  {
   "cell_type": "code",
   "execution_count": 66,
   "metadata": {},
   "outputs": [
    {
     "data": {
      "text/plain": [
       "5"
      ]
     },
     "execution_count": 66,
     "metadata": {},
     "output_type": "execute_result"
    }
   ],
   "source": [
    "p1 = MyClass() # object\n",
    "p1.x"
   ]
  },
  {
   "cell_type": "code",
   "execution_count": 68,
   "metadata": {},
   "outputs": [
    {
     "data": {
      "text/plain": [
       "5"
      ]
     },
     "execution_count": 68,
     "metadata": {},
     "output_type": "execute_result"
    }
   ],
   "source": [
    "MyClass.x"
   ]
  },
  {
   "cell_type": "code",
   "execution_count": 105,
   "metadata": {},
   "outputs": [],
   "source": [
    "## There is a function\n",
    "class Calc:\n",
    "    def doubles(x):\n",
    "        return x*2\n",
    "    \n",
    "    def square(x):\n",
    "        return x*x\n",
    "    \n",
    "    def total(x,y):\n",
    "        return x+y"
   ]
  },
  {
   "cell_type": "code",
   "execution_count": 106,
   "metadata": {},
   "outputs": [],
   "source": [
    "## There is a function\n",
    "class Calc2:\n",
    "    def doubles(self,x):\n",
    "        return x*2\n",
    "    \n",
    "    def square(self,x):\n",
    "        return x*x\n",
    "    \n",
    "    def total(self,x,y):\n",
    "        return x+y"
   ]
  },
  {
   "cell_type": "code",
   "execution_count": 107,
   "metadata": {},
   "outputs": [
    {
     "ename": "TypeError",
     "evalue": "doubles() takes 1 positional argument but 2 were given",
     "output_type": "error",
     "traceback": [
      "\u001b[1;31m---------------------------------------------------------------------------\u001b[0m",
      "\u001b[1;31mTypeError\u001b[0m                                 Traceback (most recent call last)",
      "\u001b[1;32m<ipython-input-107-b0283d93b715>\u001b[0m in \u001b[0;36m<module>\u001b[1;34m\u001b[0m\n\u001b[0;32m      1\u001b[0m \u001b[0md1\u001b[0m \u001b[1;33m=\u001b[0m \u001b[0mCalc\u001b[0m\u001b[1;33m(\u001b[0m\u001b[1;33m)\u001b[0m\u001b[1;33m\u001b[0m\u001b[1;33m\u001b[0m\u001b[0m\n\u001b[1;32m----> 2\u001b[1;33m \u001b[0md1\u001b[0m\u001b[1;33m.\u001b[0m\u001b[0mdoubles\u001b[0m\u001b[1;33m(\u001b[0m\u001b[1;36m4\u001b[0m\u001b[1;33m)\u001b[0m\u001b[1;33m\u001b[0m\u001b[1;33m\u001b[0m\u001b[0m\n\u001b[0m",
      "\u001b[1;31mTypeError\u001b[0m: doubles() takes 1 positional argument but 2 were given"
     ]
    }
   ],
   "source": [
    "d1 = Calc()\n",
    "d1.doubles(4)"
   ]
  },
  {
   "cell_type": "code",
   "execution_count": 108,
   "metadata": {},
   "outputs": [
    {
     "data": {
      "text/plain": [
       "8"
      ]
     },
     "execution_count": 108,
     "metadata": {},
     "output_type": "execute_result"
    }
   ],
   "source": [
    "d1 = Calc2()\n",
    "d1.doubles(4)"
   ]
  },
  {
   "cell_type": "code",
   "execution_count": 18,
   "metadata": {},
   "outputs": [
    {
     "data": {
      "text/plain": [
       "8"
      ]
     },
     "execution_count": 18,
     "metadata": {},
     "output_type": "execute_result"
    }
   ],
   "source": [
    "Calc.doubles(4)"
   ]
  },
  {
   "cell_type": "code",
   "execution_count": 19,
   "metadata": {},
   "outputs": [
    {
     "data": {
      "text/plain": [
       "16"
      ]
     },
     "execution_count": 19,
     "metadata": {},
     "output_type": "execute_result"
    }
   ],
   "source": [
    "Calc.square(4)"
   ]
  },
  {
   "cell_type": "code",
   "execution_count": 21,
   "metadata": {},
   "outputs": [
    {
     "data": {
      "text/plain": [
       "9"
      ]
     },
     "execution_count": 21,
     "metadata": {},
     "output_type": "execute_result"
    }
   ],
   "source": [
    "Calc.total(4,5)"
   ]
  },
  {
   "cell_type": "markdown",
   "metadata": {},
   "source": [
    "## init"
   ]
  },
  {
   "cell_type": "code",
   "execution_count": 24,
   "metadata": {},
   "outputs": [],
   "source": [
    "class Kalkulator:\n",
    "    \"\"\"contoh kelas kalkulator sederhana. anggap kelas ini tidak boleh diubah!\"\"\"\n",
    " \n",
    "    def __init__(self, nilai=0):\n",
    "        self.nilai = nilai\n",
    " \n",
    "    def tambah_angka(self, angka1, angka2):\n",
    "        self.nilai = angka1 + angka2\n",
    "        if self.nilai > 9:  # kalkulator sederhana hanya memroses sampai 9\n",
    "            print('kalkulator sederhana melebihi batas angka: {}'.format(self.nilai))\n",
    "        return self.nilai"
   ]
  },
  {
   "cell_type": "code",
   "execution_count": 25,
   "metadata": {},
   "outputs": [],
   "source": [
    "class KalkulatorKali(Kalkulator):\n",
    "    \"\"\"contoh mewarisi kelas kalkulator sederhana\"\"\"\n",
    " \n",
    "    def kali_angka(self, angka1, angka2):\n",
    "        self.nilai = angka1 * angka2\n",
    "        return self.nilai"
   ]
  },
  {
   "cell_type": "code",
   "execution_count": 26,
   "metadata": {},
   "outputs": [],
   "source": [
    "class KalkulatorKali(Kalkulator):\n",
    "    \"\"\"contoh mewarisi kelas kalkulator sederhana\"\"\"\n",
    " \n",
    "    def kali_angka(self, angka1, angka2):\n",
    "        self.nilai = angka1 * angka2\n",
    "        return self.nilai\n",
    " \n",
    "    def tambah_angka(self, angka1, angka2):\n",
    "        self.nilai = angka1 + angka2\n",
    "        return self.nilai"
   ]
  },
  {
   "cell_type": "code",
   "execution_count": 27,
   "metadata": {},
   "outputs": [
    {
     "name": "stdout",
     "output_type": "stream",
     "text": [
      "6\n",
      "11\n"
     ]
    }
   ],
   "source": [
    "kk = KalkulatorKali()\n",
    "a = kk.kali_angka(2, 3)  # sesuai dengan definisi class memiliki fitur kali_angka\n",
    "print(a)\n",
    " \n",
    "b = kk.tambah_angka(5, 6)  # memiliki fitur tambah_angka karena mewarisi dari Kalkulator\n",
    "print(b)"
   ]
  },
  {
   "cell_type": "markdown",
   "metadata": {},
   "source": [
    "## Argument\n",
    "passed variable"
   ]
  },
  {
   "cell_type": "code",
   "execution_count": 119,
   "metadata": {},
   "outputs": [],
   "source": [
    "def printinfo(fixedarg, *args):\n",
    "    print('Output: fixedarg {}'.format(fixedarg))\n",
    "    for a in args:\n",
    "        print('argumen posisi {}'.format(a))"
   ]
  },
  {
   "cell_type": "code",
   "execution_count": 124,
   "metadata": {},
   "outputs": [],
   "source": [
    "def printinfo2(fixedarg1,fixedarg2, *args):\n",
    "    print('Output: fixedarg1 {}'.format(fixedarg1))\n",
    "    print('Output: fixedarg2 {}'.format(fixedarg2))\n",
    "    for a in args:\n",
    "        print('argumen posisi {}'.format(a))"
   ]
  },
  {
   "cell_type": "code",
   "execution_count": 121,
   "metadata": {},
   "outputs": [
    {
     "name": "stdout",
     "output_type": "stream",
     "text": [
      "Output: fixedarg 10\n"
     ]
    }
   ],
   "source": [
    "printinfo(10)"
   ]
  },
  {
   "cell_type": "code",
   "execution_count": 122,
   "metadata": {},
   "outputs": [
    {
     "name": "stdout",
     "output_type": "stream",
     "text": [
      "Output: fixedarg 100\n",
      "argumen posisi 60\n",
      "argumen posisi 50\n",
      "argumen posisi 90\n"
     ]
    }
   ],
   "source": [
    "printinfo(100, 60, 50, 90)"
   ]
  },
  {
   "cell_type": "code",
   "execution_count": 123,
   "metadata": {},
   "outputs": [
    {
     "name": "stdout",
     "output_type": "stream",
     "text": [
      "Output: fixedarg1 100\n",
      "Output: fixedarg2 60\n",
      "argumen posisi 50\n",
      "argumen posisi 90\n",
      "argumen posisi 20\n",
      "argumen posisi 40\n",
      "argumen posisi 10\n"
     ]
    }
   ],
   "source": [
    "printinfo2(100, 60, 50, 90,20,40,10)"
   ]
  },
  {
   "cell_type": "code",
   "execution_count": 13,
   "metadata": {},
   "outputs": [
    {
     "name": "stdout",
     "output_type": "stream",
     "text": [
      "Output: fixedarg 10\n",
      "Output: fixedarg 70\n",
      "argumen posisi 60\n",
      "argumen posisi 50\n"
     ]
    }
   ],
   "source": [
    "def printinfo(fixedarg, *args):\n",
    "    \"This prints a variable passed arguments\"\n",
    "    print('Output: fixedarg {}'.format(fixedarg))\n",
    "    for a in args:\n",
    "        print('argumen posisi {}'.format(a))\n",
    "\n",
    "#Panggil printinfo \n",
    "printinfo(10)\n",
    "printinfo(70, 60, 50)"
   ]
  },
  {
   "cell_type": "code",
   "execution_count": 14,
   "metadata": {},
   "outputs": [
    {
     "name": "stdout",
     "output_type": "stream",
     "text": [
      "argumen posisi 1\n",
      "argumen posisi 2\n",
      "argumen posisi 3\n",
      "argument kata kunci i:7\n",
      "argument kata kunci j:8\n",
      "argument kata kunci k:9\n",
      "argumen posisi 1\n",
      "argumen posisi 2\n",
      "argument kata kunci j:8\n",
      "argument kata kunci k:9\n",
      "argumen posisi 2\n",
      "argumen posisi 3\n",
      "argument kata kunci i:7\n",
      "argument kata kunci j:8\n"
     ]
    }
   ],
   "source": [
    "def printinfo(*args, **kwargs):\n",
    "    for a in args:\n",
    "        print('argumen posisi {}'.format(a))\n",
    "    for key, value in kwargs.items():\n",
    "        print('argument kata kunci {}:{}'.format(key, value))\n",
    " \n",
    " \n",
    "# Panggil printinfo\n",
    "printinfo()\n",
    "printinfo(1, 2, 3)\n",
    "printinfo(i=7, j=8, k=9)\n",
    "printinfo(1, 2, j=8, k=9)\n",
    "printinfo(*(2, 3), **{'i':7, 'j':8})"
   ]
  },
  {
   "cell_type": "markdown",
   "metadata": {},
   "source": [
    "## Anonim"
   ]
  },
  {
   "cell_type": "code",
   "execution_count": 16,
   "metadata": {},
   "outputs": [],
   "source": [
    "sum = lambda arg1, arg2: arg1 + arg2;"
   ]
  },
  {
   "cell_type": "code",
   "execution_count": 125,
   "metadata": {},
   "outputs": [],
   "source": [
    "perkalian = lambda x,y : x*y;"
   ]
  },
  {
   "cell_type": "code",
   "execution_count": 128,
   "metadata": {},
   "outputs": [],
   "source": [
    "def perkalian(x,y):\n",
    "    return x*y"
   ]
  },
  {
   "cell_type": "code",
   "execution_count": 126,
   "metadata": {},
   "outputs": [
    {
     "data": {
      "text/plain": [
       "12"
      ]
     },
     "execution_count": 126,
     "metadata": {},
     "output_type": "execute_result"
    }
   ],
   "source": [
    "perkalian(3,4)"
   ]
  },
  {
   "cell_type": "code",
   "execution_count": 17,
   "metadata": {},
   "outputs": [
    {
     "name": "stdout",
     "output_type": "stream",
     "text": [
      "Value of total :  30\n"
     ]
    }
   ],
   "source": [
    "print (\"Value of total : \", sum( 10, 20 ))"
   ]
  },
  {
   "cell_type": "code",
   "execution_count": 19,
   "metadata": {},
   "outputs": [
    {
     "name": "stdout",
     "output_type": "stream",
     "text": [
      "Inside the function: 30\n",
      "Outside the function: 0\n"
     ]
    }
   ],
   "source": [
    "total = 0  # ini variabel global\n",
    "def sum(arg1, arg2):\n",
    "    # tambahkan kedua parameter dan return\n",
    "    total = arg1 + arg2\n",
    "    print('Inside the function: {}'.format(total))\n",
    "    return total\n",
    "# panggil sum\n",
    "sum(10, 20)\n",
    "print('Outside the function: {}'.format(total)) "
   ]
  },
  {
   "cell_type": "code",
   "execution_count": 20,
   "metadata": {},
   "outputs": [
    {
     "name": "stdout",
     "output_type": "stream",
     "text": [
      "Inside the function local total:  30\n",
      "Outside the function (global) total:  30\n"
     ]
    }
   ],
   "source": [
    "total = 0  # This is global variable.\n",
    "# fungsi didefinisikan di bawah ini\n",
    "def sum(arg1, arg2):\n",
    "    global total\n",
    "    total = arg1 + arg2 # variabel lokal total\n",
    "    print('Inside the function local total: ', total)\n",
    "    return total\n",
    " \n",
    "sum(10, 20)\n",
    "print('Outside the function (global) total: ', total)"
   ]
  },
  {
   "cell_type": "code",
   "execution_count": null,
   "metadata": {},
   "outputs": [],
   "source": []
  }
 ],
 "metadata": {
  "kernelspec": {
   "display_name": "Python 3",
   "language": "python",
   "name": "python3"
  },
  "language_info": {
   "codemirror_mode": {
    "name": "ipython",
    "version": 3
   },
   "file_extension": ".py",
   "mimetype": "text/x-python",
   "name": "python",
   "nbconvert_exporter": "python",
   "pygments_lexer": "ipython3",
   "version": "3.8.5"
  }
 },
 "nbformat": 4,
 "nbformat_minor": 2
}
